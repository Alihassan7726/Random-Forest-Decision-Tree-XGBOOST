{
 "cells": [
  {
   "cell_type": "markdown",
   "metadata": {},
   "source": [
    "# Important points\n",
    "1. We usually do not want a tree to grow very large , it would be too specific and likely to overfit.\n",
    "\n",
    "2. As the tree gets deeper, the amount of impurity decrease becomes lower. We can use this to prevent the tree from doing further splits. The hyperparameter for this task is (min_impurity_decrease). It is set to zero by default. "
   ]
  },
  {
   "cell_type": "markdown",
   "metadata": {},
   "source": [
    "3. (min_sample_leaf) it indicates the minimum no. of sample required at leaf node.it is not a wise step bcz lets-suppose it is =3 and if a node wants to be a leaf with only 2samples then it will not occur . Rather sometimes it do misxlassifications for those nodes who have less than 3 samples. "
   ]
  },
  {
   "cell_type": "markdown",
   "metadata": {},
   "source": [
    "4.Min_impurity_split parameter can be used to control the tree based on impurity values. It sets a threshold on gini. For instance, if min_impurity_split is set to 0.3, a node needs to have a gini value that is more then 0.3 to be further splitted."
   ]
  },
  {
   "cell_type": "markdown",
   "metadata": {},
   "source": [
    "Max_features is No.of features to consider for next split .  If we set max_features as 5, the model randomly selects 5 features to decide on the next split. Max_features parameter also helps preventing the model from overfitting but it is not enough just to use max_features. If we let the model to become too deep, it will end up using all the features anyway."
   ]
  },
  {
   "cell_type": "markdown",
   "metadata": {},
   "source": [
    "Max_leaf_nodes is nothing but the the numbers of nodes that are leafs . Used for controling how much leafs we want."
   ]
  },
  {
   "attachments": {
    "image.png": {
     "image/png": "[encoded data removed]"
    }
   },
   "cell_type": "markdown",
   "metadata": {},
   "source": [
    "![image.png](attachment:image.png)"
   ]
  },
  {
   "cell_type": "markdown",
   "metadata": {},
   "source": [
    "# Feature Importance\n",
    "1. Features importance using feature_importances_ is calculated based on gini importance .\n",
    "2. Important features and features split in tree may be somehow different when using 'entropy' with tree . Beacuase both are calculated diffrently.\n",
    "2. Even if you use 'gini' with tree then sometimes it will also differs bcz tree is constructed based on gini impurity and features are selected based on gini importance."
   ]
  },
  {
   "cell_type": "code",
   "execution_count": null,
   "metadata": {},
   "outputs": [],
   "source": []
  }
 ],
 "metadata": {
  "kernelspec": {
   "display_name": "Python 3",
   "language": "python",
   "name": "python3"
  },
  "language_info": {
   "codemirror_mode": {
    "name": "ipython",
    "version": 3
   },
   "file_extension": ".py",
   "mimetype": "text/x-python",
   "name": "python",
   "nbconvert_exporter": "python",
   "pygments_lexer": "ipython3",
   "version": "3.8.5"
  }
 },
 "nbformat": 4,
 "nbformat_minor": 4
}
