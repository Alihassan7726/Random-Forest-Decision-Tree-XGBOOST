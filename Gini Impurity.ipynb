{
 "cells": [
  {
   "cell_type": "code",
   "execution_count": 1,
   "metadata": {},
   "outputs": [],
   "source": [
    "def Ginx(P1,P2):\n",
    "    #P1 and P2 are the counts for each class after the split\n",
    "    print(len(P1 + P2))\n",
    "    denom = P1 + P2\n",
    "    Ginx = 2 * (P1/denom) * (P2/denom)\n",
    "    return(Ginx)\n",
    "\n",
    "def Wght_Ginx(G1,G2,PL,PR):\n",
    "    # G1 G2 are the gini impurity for each split, and PL PR are the proportion of the split\n",
    "    WG = PL * G1 + PR * G2\n",
    "    return(WG)"
   ]
  },
  {
   "cell_type": "code",
   "execution_count": 6,
   "metadata": {},
   "outputs": [
    {
     "name": "stdout",
     "output_type": "stream",
     "text": [
      "100\n",
      "[0.         0.01999796 0.0395878  0.05876951 0.07754311 0.09590858\n",
      " 0.11386593 0.13141516 0.14855627 0.16528926 0.18161412 0.19753086\n",
      " 0.21303949 0.22813999 0.24283236 0.25711662 0.27099276 0.28446077\n",
      " 0.29752066 0.31017243 0.32241608 0.33425161 0.34567901 0.3566983\n",
      " 0.36730946 0.3775125  0.38730742 0.39669421 0.40567289 0.41424344\n",
      " 0.42240588 0.43016019 0.43750638 0.44444444 0.45097439 0.45709621\n",
      " 0.46280992 0.4681155  0.47301296 0.4775023  0.48158351 0.48525661\n",
      " 0.48852158 0.49137843 0.49382716 0.49586777 0.49750026 0.49872462\n",
      " 0.49954086 0.49994898 0.49994898 0.49954086 0.49872462 0.49750026\n",
      " 0.49586777 0.49382716 0.49137843 0.48852158 0.48525661 0.48158351\n",
      " 0.4775023  0.47301296 0.4681155  0.46280992 0.45709621 0.45097439\n",
      " 0.44444444 0.43750638 0.43016019 0.42240588 0.41424344 0.40567289\n",
      " 0.39669421 0.38730742 0.3775125  0.36730946 0.3566983  0.34567901\n",
      " 0.33425161 0.32241608 0.31017243 0.29752066 0.28446077 0.27099276\n",
      " 0.25711662 0.24283236 0.22813999 0.21303949 0.19753086 0.18161412\n",
      " 0.16528926 0.14855627 0.13141516 0.11386593 0.09590858 0.07754311\n",
      " 0.05876951 0.0395878  0.01999796 0.        ]\n"
     ]
    }
   ],
   "source": [
    "import numpy as np\n",
    "X=np.arange(0.0,1.0,0.01)\n",
    "Y=X[::-1]\n",
    "\n",
    "Gini=Ginx(X,Y)\n",
    "print(Gini)\n"
   ]
  },
  {
   "cell_type": "code",
   "execution_count": 12,
   "metadata": {},
   "outputs": [
    {
     "name": "stdout",
     "output_type": "stream",
     "text": [
      "100\n"
     ]
    },
    {
     "data": {
      "image/png": "[encoded data removed]",
      "text/plain": [
       "<Figure size 432x288 with 1 Axes>"
      ]
     },
     "metadata": {
      "needs_background": "light"
     },
     "output_type": "display_data"
    }
   ],
   "source": [
    "import matplotlib.pyplot as plt\n",
    "import numpy as np\n",
    "import pandas as pd\n",
    "X=np.arange(0.0,1.0,0.01)\n",
    "Y=X[::-1]\n",
    "\n",
    "Gini=Ginx(X,Y)\n",
    "plt.plot(X,Gini)\n",
    "plt.axhline(y=0.5,color='r',linestyle='--')\n",
    "plt.title('Gini Impurity Graph')\n",
    "plt.xlabel('P1=1')\n",
    "plt.ylabel('Impurity Measure')\n",
    "plt.ylim([0,1.1])\n",
    "plt.show()"
   ]
  },
  {
   "cell_type": "code",
   "execution_count": 7,
   "metadata": {},
   "outputs": [
    {
     "name": "stdout",
     "output_type": "stream",
     "text": [
      "100\n",
      "100\n"
     ]
    }
   ],
   "source": [
    "print(len(X))\n",
    "print(len(Y))"
   ]
  },
  {
   "cell_type": "code",
   "execution_count": 8,
   "metadata": {},
   "outputs": [
    {
     "name": "stdout",
     "output_type": "stream",
     "text": [
      "100 [1 1 1 1 1 1 1 1 1 1 1 1 1 1 1 1 1 1 1 1 1 1 1 1 1 1 1 1 1 1 1 1 1 1 1 1 1\n",
      " 1 1 1 1 1 1 1 1 1 1 1 1 1 1 1 1 1 1 1 1 1 1 1 1 1 1 1 1 1 1 1 1 1 1 1 1 1\n",
      " 1 1 1 1 1 1 1 1 1 1 1 1 1 1 1 1 1 1 1 1 1 1 1 1 1 1]\n"
     ]
    }
   ],
   "source": [
    "uni , count = np.unique(X , return_counts=True)\n",
    "print(len(uni) , count)\n"
   ]
  },
  {
   "cell_type": "code",
   "execution_count": 8,
   "metadata": {},
   "outputs": [
    {
     "data": {
      "text/plain": [
       "array([0.        , 0.01999796, 0.0395878 , 0.05876951, 0.07754311,\n",
       "       0.09590858, 0.11386593, 0.13141516, 0.14855627, 0.16528926,\n",
       "       0.18161412, 0.19753086, 0.21303949, 0.22813999, 0.24283236,\n",
       "       0.25711662, 0.27099276, 0.28446077, 0.29752066, 0.31017243,\n",
       "       0.32241608, 0.33425161, 0.34567901, 0.3566983 , 0.36730946,\n",
       "       0.3775125 , 0.38730742, 0.39669421, 0.40567289, 0.41424344,\n",
       "       0.42240588, 0.43016019, 0.43750638, 0.44444444, 0.45097439,\n",
       "       0.45709621, 0.46280992, 0.4681155 , 0.47301296, 0.4775023 ,\n",
       "       0.48158351, 0.48525661, 0.48852158, 0.49137843, 0.49382716,\n",
       "       0.49586777, 0.49750026, 0.49872462, 0.49954086, 0.49994898,\n",
       "       0.49994898, 0.49954086, 0.49872462, 0.49750026, 0.49586777,\n",
       "       0.49382716, 0.49137843, 0.48852158, 0.48525661, 0.48158351,\n",
       "       0.4775023 , 0.47301296, 0.4681155 , 0.46280992, 0.45709621,\n",
       "       0.45097439, 0.44444444, 0.43750638, 0.43016019, 0.42240588,\n",
       "       0.41424344, 0.40567289, 0.39669421, 0.38730742, 0.3775125 ,\n",
       "       0.36730946, 0.3566983 , 0.34567901, 0.33425161, 0.32241608,\n",
       "       0.31017243, 0.29752066, 0.28446077, 0.27099276, 0.25711662,\n",
       "       0.24283236, 0.22813999, 0.21303949, 0.19753086, 0.18161412,\n",
       "       0.16528926, 0.14855627, 0.13141516, 0.11386593, 0.09590858,\n",
       "       0.07754311, 0.05876951, 0.0395878 , 0.01999796, 0.        ])"
      ]
     },
     "execution_count": 8,
     "metadata": {},
     "output_type": "execute_result"
    }
   ],
   "source": [
    "Gini"
   ]
  },
  {
   "cell_type": "code",
   "execution_count": 13,
   "metadata": {},
   "outputs": [],
   "source": [
    "import sklearn\n",
    "import seaborn as sns"
   ]
  },
  {
   "cell_type": "code",
   "execution_count": null,
   "metadata": {},
   "outputs": [],
   "source": []
  }
 ],
 "metadata": {
  "kernelspec": {
   "display_name": "Python 3",
   "language": "python",
   "name": "python3"
  },
  "language_info": {
   "codemirror_mode": {
    "name": "ipython",
    "version": 3
   },
   "file_extension": ".py",
   "mimetype": "text/x-python",
   "name": "python",
   "nbconvert_exporter": "python",
   "pygments_lexer": "ipython3",
   "version": "3.8.5"
  }
 },
 "nbformat": 4,
 "nbformat_minor": 4
}
