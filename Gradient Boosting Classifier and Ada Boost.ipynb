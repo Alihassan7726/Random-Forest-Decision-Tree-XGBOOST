{
 "cells": [
  {
   "cell_type": "code",
   "execution_count": null,
   "metadata": {},
   "outputs": [],
   "source": []
  },
  {
   "cell_type": "code",
   "execution_count": null,
   "metadata": {},
   "outputs": [],
   "source": []
  },
  {
   "cell_type": "code",
   "execution_count": 1,
   "metadata": {},
   "outputs": [],
   "source": [
    "import pandas as pd\n",
    "import numpy as np\n",
    "import sklearn"
   ]
  },
  {
   "cell_type": "code",
   "execution_count": 2,
   "metadata": {},
   "outputs": [
    {
     "data": {
      "text/html": [
       "<div>\n",
       "<style scoped>\n",
       "    .dataframe tbody tr th:only-of-type {\n",
       "        vertical-align: middle;\n",
       "    }\n",
       "\n",
       "    .dataframe tbody tr th {\n",
       "        vertical-align: top;\n",
       "    }\n",
       "\n",
       "    .dataframe thead th {\n",
       "        text-align: right;\n",
       "    }\n",
       "</style>\n",
       "<table border=\"1\" class=\"dataframe\">\n",
       "  <thead>\n",
       "    <tr style=\"text-align: right;\">\n",
       "      <th></th>\n",
       "      <th>Unnamed: 0</th>\n",
       "      <th>X1</th>\n",
       "      <th>X2</th>\n",
       "      <th>X3</th>\n",
       "      <th>X4</th>\n",
       "      <th>X5</th>\n",
       "      <th>X6</th>\n",
       "      <th>X7</th>\n",
       "      <th>X8</th>\n",
       "      <th>X9</th>\n",
       "      <th>...</th>\n",
       "      <th>X15</th>\n",
       "      <th>X16</th>\n",
       "      <th>X17</th>\n",
       "      <th>X18</th>\n",
       "      <th>X19</th>\n",
       "      <th>X20</th>\n",
       "      <th>X21</th>\n",
       "      <th>X22</th>\n",
       "      <th>X23</th>\n",
       "      <th>Y</th>\n",
       "    </tr>\n",
       "  </thead>\n",
       "  <tbody>\n",
       "    <tr>\n",
       "      <th>0</th>\n",
       "      <td>ID</td>\n",
       "      <td>LIMIT_BAL</td>\n",
       "      <td>SEX</td>\n",
       "      <td>EDUCATION</td>\n",
       "      <td>MARRIAGE</td>\n",
       "      <td>AGE</td>\n",
       "      <td>PAY_0</td>\n",
       "      <td>PAY_2</td>\n",
       "      <td>PAY_3</td>\n",
       "      <td>PAY_4</td>\n",
       "      <td>...</td>\n",
       "      <td>BILL_AMT4</td>\n",
       "      <td>BILL_AMT5</td>\n",
       "      <td>BILL_AMT6</td>\n",
       "      <td>PAY_AMT1</td>\n",
       "      <td>PAY_AMT2</td>\n",
       "      <td>PAY_AMT3</td>\n",
       "      <td>PAY_AMT4</td>\n",
       "      <td>PAY_AMT5</td>\n",
       "      <td>PAY_AMT6</td>\n",
       "      <td>default payment next month</td>\n",
       "    </tr>\n",
       "    <tr>\n",
       "      <th>1</th>\n",
       "      <td>1</td>\n",
       "      <td>20000</td>\n",
       "      <td>2</td>\n",
       "      <td>2</td>\n",
       "      <td>1</td>\n",
       "      <td>24</td>\n",
       "      <td>2</td>\n",
       "      <td>2</td>\n",
       "      <td>0</td>\n",
       "      <td>0</td>\n",
       "      <td>...</td>\n",
       "      <td>0</td>\n",
       "      <td>0</td>\n",
       "      <td>0</td>\n",
       "      <td>0</td>\n",
       "      <td>689</td>\n",
       "      <td>0</td>\n",
       "      <td>0</td>\n",
       "      <td>0</td>\n",
       "      <td>0</td>\n",
       "      <td>1</td>\n",
       "    </tr>\n",
       "    <tr>\n",
       "      <th>2</th>\n",
       "      <td>2</td>\n",
       "      <td>120000</td>\n",
       "      <td>2</td>\n",
       "      <td>2</td>\n",
       "      <td>2</td>\n",
       "      <td>26</td>\n",
       "      <td>0</td>\n",
       "      <td>2</td>\n",
       "      <td>0</td>\n",
       "      <td>0</td>\n",
       "      <td>...</td>\n",
       "      <td>3272</td>\n",
       "      <td>3455</td>\n",
       "      <td>3261</td>\n",
       "      <td>0</td>\n",
       "      <td>1000</td>\n",
       "      <td>1000</td>\n",
       "      <td>1000</td>\n",
       "      <td>0</td>\n",
       "      <td>2000</td>\n",
       "      <td>1</td>\n",
       "    </tr>\n",
       "    <tr>\n",
       "      <th>3</th>\n",
       "      <td>3</td>\n",
       "      <td>90000</td>\n",
       "      <td>2</td>\n",
       "      <td>2</td>\n",
       "      <td>2</td>\n",
       "      <td>34</td>\n",
       "      <td>0</td>\n",
       "      <td>0</td>\n",
       "      <td>0</td>\n",
       "      <td>0</td>\n",
       "      <td>...</td>\n",
       "      <td>14331</td>\n",
       "      <td>14948</td>\n",
       "      <td>15549</td>\n",
       "      <td>1518</td>\n",
       "      <td>1500</td>\n",
       "      <td>1000</td>\n",
       "      <td>1000</td>\n",
       "      <td>1000</td>\n",
       "      <td>5000</td>\n",
       "      <td>0</td>\n",
       "    </tr>\n",
       "    <tr>\n",
       "      <th>4</th>\n",
       "      <td>4</td>\n",
       "      <td>50000</td>\n",
       "      <td>2</td>\n",
       "      <td>2</td>\n",
       "      <td>1</td>\n",
       "      <td>37</td>\n",
       "      <td>0</td>\n",
       "      <td>0</td>\n",
       "      <td>0</td>\n",
       "      <td>0</td>\n",
       "      <td>...</td>\n",
       "      <td>28314</td>\n",
       "      <td>28959</td>\n",
       "      <td>29547</td>\n",
       "      <td>2000</td>\n",
       "      <td>2019</td>\n",
       "      <td>1200</td>\n",
       "      <td>1100</td>\n",
       "      <td>1069</td>\n",
       "      <td>1000</td>\n",
       "      <td>0</td>\n",
       "    </tr>\n",
       "  </tbody>\n",
       "</table>\n",
       "<p>5 rows × 25 columns</p>\n",
       "</div>"
      ],
      "text/plain": [
       "  Unnamed: 0         X1   X2         X3        X4   X5     X6     X7     X8  \\\n",
       "0         ID  LIMIT_BAL  SEX  EDUCATION  MARRIAGE  AGE  PAY_0  PAY_2  PAY_3   \n",
       "1          1      20000    2          2         1   24      2      2      0   \n",
       "2          2     120000    2          2         2   26      0      2      0   \n",
       "3          3      90000    2          2         2   34      0      0      0   \n",
       "4          4      50000    2          2         1   37      0      0      0   \n",
       "\n",
       "      X9  ...        X15        X16        X17       X18       X19       X20  \\\n",
       "0  PAY_4  ...  BILL_AMT4  BILL_AMT5  BILL_AMT6  PAY_AMT1  PAY_AMT2  PAY_AMT3   \n",
       "1      0  ...          0          0          0         0       689         0   \n",
       "2      0  ...       3272       3455       3261         0      1000      1000   \n",
       "3      0  ...      14331      14948      15549      1518      1500      1000   \n",
       "4      0  ...      28314      28959      29547      2000      2019      1200   \n",
       "\n",
       "        X21       X22       X23                           Y  \n",
       "0  PAY_AMT4  PAY_AMT5  PAY_AMT6  default payment next month  \n",
       "1         0         0         0                           1  \n",
       "2      1000         0      2000                           1  \n",
       "3      1000      1000      5000                           0  \n",
       "4      1100      1069      1000                           0  \n",
       "\n",
       "[5 rows x 25 columns]"
      ]
     },
     "execution_count": 2,
     "metadata": {},
     "output_type": "execute_result"
    }
   ],
   "source": [
    "df = pd.read_excel(r'C:/BEPEC Python Material/Machine Learning/Logistic Regression/credit_card.xlsx', engine='openpyxl')\n",
    "df.head()"
   ]
  },
  {
   "cell_type": "code",
   "execution_count": 3,
   "metadata": {},
   "outputs": [
    {
     "data": {
      "text/html": [
       "<div>\n",
       "<style scoped>\n",
       "    .dataframe tbody tr th:only-of-type {\n",
       "        vertical-align: middle;\n",
       "    }\n",
       "\n",
       "    .dataframe tbody tr th {\n",
       "        vertical-align: top;\n",
       "    }\n",
       "\n",
       "    .dataframe thead th {\n",
       "        text-align: right;\n",
       "    }\n",
       "</style>\n",
       "<table border=\"1\" class=\"dataframe\">\n",
       "  <thead>\n",
       "    <tr style=\"text-align: right;\">\n",
       "      <th></th>\n",
       "      <th>ID</th>\n",
       "      <th>LIMIT_BAL</th>\n",
       "      <th>SEX</th>\n",
       "      <th>EDUCATION</th>\n",
       "      <th>MARRIAGE</th>\n",
       "      <th>AGE</th>\n",
       "      <th>PAY_1</th>\n",
       "      <th>PAY_2</th>\n",
       "      <th>PAY_3</th>\n",
       "      <th>PAY_4</th>\n",
       "      <th>...</th>\n",
       "      <th>BILL_AMT4</th>\n",
       "      <th>BILL_AMT5</th>\n",
       "      <th>BILL_AMT6</th>\n",
       "      <th>PAY_AMT1</th>\n",
       "      <th>PAY_AMT2</th>\n",
       "      <th>PAY_AMT3</th>\n",
       "      <th>PAY_AMT4</th>\n",
       "      <th>PAY_AMT5</th>\n",
       "      <th>PAY_AMT6</th>\n",
       "      <th>default payment next month</th>\n",
       "    </tr>\n",
       "  </thead>\n",
       "  <tbody>\n",
       "    <tr>\n",
       "      <th>1</th>\n",
       "      <td>1</td>\n",
       "      <td>20000</td>\n",
       "      <td>2</td>\n",
       "      <td>2</td>\n",
       "      <td>1</td>\n",
       "      <td>24</td>\n",
       "      <td>2</td>\n",
       "      <td>2</td>\n",
       "      <td>0</td>\n",
       "      <td>0</td>\n",
       "      <td>...</td>\n",
       "      <td>0</td>\n",
       "      <td>0</td>\n",
       "      <td>0</td>\n",
       "      <td>0</td>\n",
       "      <td>689</td>\n",
       "      <td>0</td>\n",
       "      <td>0</td>\n",
       "      <td>0</td>\n",
       "      <td>0</td>\n",
       "      <td>1</td>\n",
       "    </tr>\n",
       "    <tr>\n",
       "      <th>2</th>\n",
       "      <td>2</td>\n",
       "      <td>120000</td>\n",
       "      <td>2</td>\n",
       "      <td>2</td>\n",
       "      <td>2</td>\n",
       "      <td>26</td>\n",
       "      <td>0</td>\n",
       "      <td>2</td>\n",
       "      <td>0</td>\n",
       "      <td>0</td>\n",
       "      <td>...</td>\n",
       "      <td>3272</td>\n",
       "      <td>3455</td>\n",
       "      <td>3261</td>\n",
       "      <td>0</td>\n",
       "      <td>1000</td>\n",
       "      <td>1000</td>\n",
       "      <td>1000</td>\n",
       "      <td>0</td>\n",
       "      <td>2000</td>\n",
       "      <td>1</td>\n",
       "    </tr>\n",
       "    <tr>\n",
       "      <th>3</th>\n",
       "      <td>3</td>\n",
       "      <td>90000</td>\n",
       "      <td>2</td>\n",
       "      <td>2</td>\n",
       "      <td>2</td>\n",
       "      <td>34</td>\n",
       "      <td>0</td>\n",
       "      <td>0</td>\n",
       "      <td>0</td>\n",
       "      <td>0</td>\n",
       "      <td>...</td>\n",
       "      <td>14331</td>\n",
       "      <td>14948</td>\n",
       "      <td>15549</td>\n",
       "      <td>1518</td>\n",
       "      <td>1500</td>\n",
       "      <td>1000</td>\n",
       "      <td>1000</td>\n",
       "      <td>1000</td>\n",
       "      <td>5000</td>\n",
       "      <td>0</td>\n",
       "    </tr>\n",
       "    <tr>\n",
       "      <th>4</th>\n",
       "      <td>4</td>\n",
       "      <td>50000</td>\n",
       "      <td>2</td>\n",
       "      <td>2</td>\n",
       "      <td>1</td>\n",
       "      <td>37</td>\n",
       "      <td>0</td>\n",
       "      <td>0</td>\n",
       "      <td>0</td>\n",
       "      <td>0</td>\n",
       "      <td>...</td>\n",
       "      <td>28314</td>\n",
       "      <td>28959</td>\n",
       "      <td>29547</td>\n",
       "      <td>2000</td>\n",
       "      <td>2019</td>\n",
       "      <td>1200</td>\n",
       "      <td>1100</td>\n",
       "      <td>1069</td>\n",
       "      <td>1000</td>\n",
       "      <td>0</td>\n",
       "    </tr>\n",
       "    <tr>\n",
       "      <th>5</th>\n",
       "      <td>5</td>\n",
       "      <td>50000</td>\n",
       "      <td>1</td>\n",
       "      <td>2</td>\n",
       "      <td>1</td>\n",
       "      <td>57</td>\n",
       "      <td>0</td>\n",
       "      <td>0</td>\n",
       "      <td>0</td>\n",
       "      <td>0</td>\n",
       "      <td>...</td>\n",
       "      <td>20940</td>\n",
       "      <td>19146</td>\n",
       "      <td>19131</td>\n",
       "      <td>2000</td>\n",
       "      <td>36681</td>\n",
       "      <td>10000</td>\n",
       "      <td>9000</td>\n",
       "      <td>689</td>\n",
       "      <td>679</td>\n",
       "      <td>0</td>\n",
       "    </tr>\n",
       "  </tbody>\n",
       "</table>\n",
       "<p>5 rows × 25 columns</p>\n",
       "</div>"
      ],
      "text/plain": [
       "   ID  LIMIT_BAL  SEX  EDUCATION  MARRIAGE  AGE  PAY_1  PAY_2  PAY_3  PAY_4  \\\n",
       "1   1      20000    2          2         1   24      2      2      0      0   \n",
       "2   2     120000    2          2         2   26      0      2      0      0   \n",
       "3   3      90000    2          2         2   34      0      0      0      0   \n",
       "4   4      50000    2          2         1   37      0      0      0      0   \n",
       "5   5      50000    1          2         1   57      0      0      0      0   \n",
       "\n",
       "   ...  BILL_AMT4  BILL_AMT5  BILL_AMT6  PAY_AMT1  PAY_AMT2  PAY_AMT3  \\\n",
       "1  ...          0          0          0         0       689         0   \n",
       "2  ...       3272       3455       3261         0      1000      1000   \n",
       "3  ...      14331      14948      15549      1518      1500      1000   \n",
       "4  ...      28314      28959      29547      2000      2019      1200   \n",
       "5  ...      20940      19146      19131      2000     36681     10000   \n",
       "\n",
       "   PAY_AMT4  PAY_AMT5  PAY_AMT6  default payment next month  \n",
       "1         0         0         0                           1  \n",
       "2      1000         0      2000                           1  \n",
       "3      1000      1000      5000                           0  \n",
       "4      1100      1069      1000                           0  \n",
       "5      9000       689       679                           0  \n",
       "\n",
       "[5 rows x 25 columns]"
      ]
     },
     "execution_count": 3,
     "metadata": {},
     "output_type": "execute_result"
    }
   ],
   "source": [
    "column_names = df.loc[0,:]\n",
    "column_names = column_names.to_list()\n",
    "l1 = df.columns\n",
    "l1 = l1.to_list()\n",
    "df.columns = column_names\n",
    "df.rename(columns= {'PAY_0':'PAY_1'}, inplace=True)\n",
    "df.drop([0], inplace=True)\n",
    "column_names = df.columns\n",
    "for column in column_names:\n",
    "    df[column] = pd.to_numeric(df[column]) \n",
    "df.head()"
   ]
  },
  {
   "cell_type": "code",
   "execution_count": 4,
   "metadata": {},
   "outputs": [],
   "source": [
    "df.drop(columns={'ID'}, inplace=True)"
   ]
  },
  {
   "cell_type": "code",
   "execution_count": 5,
   "metadata": {},
   "outputs": [
    {
     "name": "stdout",
     "output_type": "stream",
     "text": [
      "<class 'pandas.core.frame.DataFrame'>\n",
      "Int64Index: 30000 entries, 1 to 30000\n",
      "Data columns (total 24 columns):\n",
      " #   Column                      Non-Null Count  Dtype\n",
      "---  ------                      --------------  -----\n",
      " 0   LIMIT_BAL                   30000 non-null  int64\n",
      " 1   SEX                         30000 non-null  int64\n",
      " 2   EDUCATION                   30000 non-null  int64\n",
      " 3   MARRIAGE                    30000 non-null  int64\n",
      " 4   AGE                         30000 non-null  int64\n",
      " 5   PAY_1                       30000 non-null  int64\n",
      " 6   PAY_2                       30000 non-null  int64\n",
      " 7   PAY_3                       30000 non-null  int64\n",
      " 8   PAY_4                       30000 non-null  int64\n",
      " 9   PAY_5                       30000 non-null  int64\n",
      " 10  PAY_6                       30000 non-null  int64\n",
      " 11  BILL_AMT1                   30000 non-null  int64\n",
      " 12  BILL_AMT2                   30000 non-null  int64\n",
      " 13  BILL_AMT3                   30000 non-null  int64\n",
      " 14  BILL_AMT4                   30000 non-null  int64\n",
      " 15  BILL_AMT5                   30000 non-null  int64\n",
      " 16  BILL_AMT6                   30000 non-null  int64\n",
      " 17  PAY_AMT1                    30000 non-null  int64\n",
      " 18  PAY_AMT2                    30000 non-null  int64\n",
      " 19  PAY_AMT3                    30000 non-null  int64\n",
      " 20  PAY_AMT4                    30000 non-null  int64\n",
      " 21  PAY_AMT5                    30000 non-null  int64\n",
      " 22  PAY_AMT6                    30000 non-null  int64\n",
      " 23  default payment next month  30000 non-null  int64\n",
      "dtypes: int64(24)\n",
      "memory usage: 5.7 MB\n"
     ]
    }
   ],
   "source": [
    "df.info()"
   ]
  },
  {
   "cell_type": "code",
   "execution_count": 6,
   "metadata": {},
   "outputs": [
    {
     "name": "stdout",
     "output_type": "stream",
     "text": [
      "(30000, 23)\n",
      "(30000,)\n"
     ]
    }
   ],
   "source": [
    "X = df.iloc[:,:-1]\n",
    "y = df.iloc[:,-1]\n",
    "print(X.shape)\n",
    "print(y.shape)"
   ]
  },
  {
   "cell_type": "code",
   "execution_count": 7,
   "metadata": {},
   "outputs": [
    {
     "name": "stdout",
     "output_type": "stream",
     "text": [
      "1\n",
      "StratifiedShuffleSplit(n_splits=1, random_state=0, test_size=0.1,\n",
      "            train_size=None)\n"
     ]
    }
   ],
   "source": [
    "from sklearn.model_selection import StratifiedShuffleSplit\n",
    "\n",
    "sss = StratifiedShuffleSplit(n_splits=1, test_size=0.1, random_state=0)\n",
    "print(sss.get_n_splits(X, y))\n",
    "print(sss)\n",
    "\n",
    "train_idx = 0\n",
    "test_idx = 0\n",
    "for train_idx , test_idx in sss.split(X,y):\n",
    "    X_train  , X_test = X.iloc[train_idx], X.iloc[test_idx]\n",
    "    y_train  , y_test = y.iloc[train_idx], y.iloc[test_idx]"
   ]
  },
  {
   "cell_type": "code",
   "execution_count": 8,
   "metadata": {},
   "outputs": [
    {
     "name": "stdout",
     "output_type": "stream",
     "text": [
      "(27000, 23)\n",
      "(3000, 23)\n",
      "(27000,)\n",
      "(3000,)\n",
      "0    23364\n",
      "1     6636\n",
      "Name: default payment next month, dtype: int64\n",
      "0    21028\n",
      "1     5972\n",
      "Name: default payment next month, dtype: int64\n",
      "0    2336\n",
      "1     664\n",
      "Name: default payment next month, dtype: int64\n"
     ]
    }
   ],
   "source": [
    "print(X_train.shape)\n",
    "print(X_test.shape)\n",
    "print(y_train.shape)\n",
    "print(y_test.shape)\n",
    "print(y.value_counts())\n",
    "print(y_train.value_counts())\n",
    "print(y_test.value_counts())"
   ]
  },
  {
   "cell_type": "code",
   "execution_count": 26,
   "metadata": {},
   "outputs": [
    {
     "name": "stdout",
     "output_type": "stream",
     "text": [
      "0.926\n"
     ]
    }
   ],
   "source": [
    "from sklearn.ensemble import GradientBoostingClassifier\n",
    "clf = GradientBoostingClassifier(loss = 'exponential' , n_estimators=450, learning_rate=0.3 , min_impurity_decrease=0.05,  \n",
    "                                 max_depth=5,  random_state=0 ).fit(X_train, y_train)\n",
    "print(clf.score(X_train , y_train))"
   ]
  },
  {
   "cell_type": "code",
   "execution_count": 27,
   "metadata": {},
   "outputs": [
    {
     "name": "stdout",
     "output_type": "stream",
     "text": [
      "0.8126666666666666\n"
     ]
    }
   ],
   "source": [
    "y_pred = clf.predict(X_test)\n",
    "print(clf.score(X_test , y_test))"
   ]
  },
  {
   "cell_type": "code",
   "execution_count": 28,
   "metadata": {},
   "outputs": [
    {
     "name": "stdout",
     "output_type": "stream",
     "text": [
      "0.8126666666666666\n"
     ]
    }
   ],
   "source": [
    "from sklearn.metrics import accuracy_score\n",
    "print(accuracy_score(y_test , y_pred))"
   ]
  },
  {
   "cell_type": "code",
   "execution_count": 29,
   "metadata": {},
   "outputs": [
    {
     "name": "stdout",
     "output_type": "stream",
     "text": [
      "[[2185  151]\n",
      " [ 411  253]] \n",
      "------------------\n"
     ]
    }
   ],
   "source": [
    "from sklearn import metrics\n",
    "print(metrics.confusion_matrix(y_test, y_pred),\"\\n------------------\")\n",
    "#print(metrics.confusion_matrix(y_train, train_predicted))"
   ]
  },
  {
   "cell_type": "code",
   "execution_count": 30,
   "metadata": {},
   "outputs": [
    {
     "name": "stdout",
     "output_type": "stream",
     "text": [
      "              precision    recall  f1-score   support\n",
      "\n",
      "           0       0.84      0.94      0.89      2336\n",
      "           1       0.63      0.38      0.47       664\n",
      "\n",
      "    accuracy                           0.81      3000\n",
      "   macro avg       0.73      0.66      0.68      3000\n",
      "weighted avg       0.79      0.81      0.79      3000\n",
      "\n"
     ]
    }
   ],
   "source": [
    "print(metrics.classification_report(y_test, y_pred  ))"
   ]
  },
  {
   "cell_type": "code",
   "execution_count": 31,
   "metadata": {
    "collapsed": true
   },
   "outputs": [
    {
     "data": {
      "text/plain": [
       "array([0.78067459, 0.75031667, 0.7320539 , 0.72061088, 0.71303138,\n",
       "       0.70688136, 0.70316771, 0.69976798, 0.69598236, 0.69394395,\n",
       "       0.69174303, 0.69012026, 0.68806696, 0.68577567, 0.68508726,\n",
       "       0.68379757, 0.68308798, 0.68217854, 0.68068249, 0.67864466,\n",
       "       0.67703019, 0.67522802, 0.67390819, 0.67228064, 0.67070462,\n",
       "       0.66988727, 0.66849212, 0.66725207, 0.66637422, 0.66530565,\n",
       "       0.66471198, 0.66405569, 0.66348212, 0.66242113, 0.66054709,\n",
       "       0.65904644, 0.65760386, 0.65666213, 0.65592341, 0.65506598,\n",
       "       0.65382326, 0.65237613, 0.65075549, 0.64906048, 0.64787968,\n",
       "       0.64746029, 0.64654514, 0.6450228 , 0.64414067, 0.64365751,\n",
       "       0.64248923, 0.64102986, 0.63952365, 0.6385344 , 0.6373937 ,\n",
       "       0.63577186, 0.63427678, 0.63316098, 0.63177164, 0.63092345,\n",
       "       0.62997395, 0.62893824, 0.62794709, 0.62709242, 0.62613748,\n",
       "       0.62523458, 0.62477782, 0.62426403, 0.62380318, 0.62310928,\n",
       "       0.62190402, 0.62104644, 0.62076808, 0.61942254, 0.61875248,\n",
       "       0.61768592, 0.61655778, 0.61491203, 0.61367845, 0.61245454,\n",
       "       0.611335  , 0.60989615, 0.60904535, 0.60795589, 0.60704266,\n",
       "       0.6059758 , 0.60391664, 0.60268725, 0.60214129, 0.60103644,\n",
       "       0.60031195, 0.59891641, 0.59807817, 0.59656718, 0.59508428,\n",
       "       0.59449366, 0.59284093, 0.59163919, 0.58999225, 0.58882958,\n",
       "       0.58762458, 0.58705075, 0.58615094, 0.58552671, 0.58442677,\n",
       "       0.58308949, 0.58222759, 0.5817976 , 0.58145959, 0.58067257,\n",
       "       0.57978895, 0.57869305, 0.57761085, 0.5774448 , 0.5767205 ,\n",
       "       0.57574155, 0.57474495, 0.57391891, 0.57285877, 0.57218997,\n",
       "       0.57071667, 0.56918474, 0.56867843, 0.56810588, 0.56683346,\n",
       "       0.56610318, 0.56561918, 0.56435565, 0.56321292, 0.56169715,\n",
       "       0.56043666, 0.55925196, 0.55818703, 0.55685572, 0.55548337,\n",
       "       0.55423919, 0.55314435, 0.5525023 , 0.55121522, 0.5502041 ,\n",
       "       0.54928248, 0.54823455, 0.54708638, 0.54646879, 0.54538879,\n",
       "       0.54463574, 0.54386476, 0.54274415, 0.54232347, 0.54194933,\n",
       "       0.54143144, 0.54025579, 0.53957412, 0.53874683, 0.53828851,\n",
       "       0.53737594, 0.53617321, 0.53550972, 0.53459744, 0.53353219,\n",
       "       0.53230476, 0.53140526, 0.53034313, 0.52955914, 0.52892986,\n",
       "       0.52805876, 0.5273985 , 0.52660577, 0.52591971, 0.52466191,\n",
       "       0.52358546, 0.52240873, 0.52157039, 0.52112795, 0.52075674,\n",
       "       0.52032543, 0.51959555, 0.51909429, 0.51856002, 0.51802592,\n",
       "       0.51760229, 0.51638256, 0.51543981, 0.51491605, 0.51394377,\n",
       "       0.51332551, 0.51302138, 0.51209491, 0.51130243, 0.51031352,\n",
       "       0.50959484, 0.5082775 , 0.50729672, 0.50621226, 0.50512674,\n",
       "       0.50445301, 0.50345452, 0.50254746, 0.50238118, 0.50149272,\n",
       "       0.50069535, 0.50025679, 0.4996516 , 0.49856782, 0.49791274,\n",
       "       0.49675126, 0.49596517, 0.49505472, 0.49399089, 0.49275507,\n",
       "       0.49158554, 0.49086298, 0.48993158, 0.4890164 , 0.48831212,\n",
       "       0.48769991, 0.48680509, 0.48601376, 0.48531665, 0.48438093,\n",
       "       0.48313503, 0.48230895, 0.48110651, 0.48010373, 0.47928784,\n",
       "       0.47851393, 0.47773142, 0.47704765, 0.47693264, 0.47580883,\n",
       "       0.47520506, 0.47425136, 0.47292407, 0.47225123, 0.47133747,\n",
       "       0.47071127, 0.469848  , 0.46924189, 0.46832843, 0.46791141,\n",
       "       0.46773336, 0.46676083, 0.46568408, 0.46513064, 0.46417864,\n",
       "       0.46357643, 0.4629442 , 0.46208755, 0.46164948, 0.46123164,\n",
       "       0.46059742, 0.45920036, 0.45857104, 0.45777   , 0.45715738,\n",
       "       0.45607649, 0.45551209, 0.45475106, 0.45399449, 0.4537056 ,\n",
       "       0.45289381, 0.45208342, 0.45137856, 0.45068575, 0.449764  ,\n",
       "       0.44884003, 0.44788388, 0.44724427, 0.44637545, 0.44542569,\n",
       "       0.44487735, 0.44424886, 0.44397383, 0.44301409, 0.44228975,\n",
       "       0.4417525 , 0.44125854, 0.44019267, 0.43944493, 0.43876237,\n",
       "       0.43776509, 0.43711193, 0.43630471, 0.43522099, 0.43464755,\n",
       "       0.43432134, 0.43361755, 0.43282694, 0.43227311, 0.43116582,\n",
       "       0.43031084, 0.42961292, 0.42872302, 0.42803639, 0.42735378,\n",
       "       0.42689803, 0.42613621, 0.42576354, 0.42488947, 0.42422546,\n",
       "       0.42384489, 0.42366233, 0.42343037, 0.42289594, 0.42230685,\n",
       "       0.42184887, 0.42123335, 0.42040898, 0.42002498, 0.41973574,\n",
       "       0.4191075 , 0.41867631, 0.41835012, 0.41795662, 0.41751914,\n",
       "       0.41694957, 0.41645566, 0.41619084, 0.4155998 , 0.41517917,\n",
       "       0.41446424, 0.41360445, 0.41297789, 0.41220024, 0.41131689,\n",
       "       0.41080544, 0.41013579, 0.40943634, 0.4090743 , 0.40848111,\n",
       "       0.40799686, 0.40732296, 0.40661668, 0.40614931, 0.405104  ,\n",
       "       0.40441646, 0.40387666, 0.40344215, 0.40302744, 0.40271014,\n",
       "       0.40183385, 0.40071062, 0.40021049, 0.39986885, 0.39925255,\n",
       "       0.39840626, 0.39790676, 0.39743954, 0.39687875, 0.39636041,\n",
       "       0.39561895, 0.39469771, 0.3941073 , 0.39330924, 0.3928194 ,\n",
       "       0.392614  , 0.3916986 , 0.39077885, 0.39026694, 0.38984615,\n",
       "       0.38905321, 0.38847366, 0.388166  , 0.38745626, 0.38675012,\n",
       "       0.38610415, 0.38575886, 0.3851809 , 0.38488217, 0.38460436,\n",
       "       0.38434596, 0.38360832, 0.38252878, 0.38196921, 0.38133715,\n",
       "       0.38110005, 0.380148  , 0.37966895, 0.37931771, 0.37899452,\n",
       "       0.3784043 , 0.37776487, 0.37704756, 0.37617897, 0.37525615,\n",
       "       0.3743789 , 0.37425761, 0.37335982, 0.37287651, 0.37200059,\n",
       "       0.37152968, 0.37076984, 0.37057873, 0.36997097, 0.36966217,\n",
       "       0.36897632, 0.36826501, 0.36786297, 0.36734772, 0.36669325,\n",
       "       0.36609402, 0.36525212, 0.36456671, 0.36418449, 0.36355102,\n",
       "       0.36305459, 0.36248483, 0.36171784, 0.36090424, 0.36035749,\n",
       "       0.35962733, 0.35912894, 0.35845553, 0.35782732, 0.35715155,\n",
       "       0.35665948, 0.35583996, 0.35523504, 0.35457534, 0.35386093,\n",
       "       0.35324022, 0.35263817, 0.35213875, 0.35166713, 0.35087992,\n",
       "       0.35047155, 0.35028061, 0.35005787, 0.34966744, 0.34897165,\n",
       "       0.34840606, 0.34784322, 0.34723584, 0.34660859, 0.345834  ,\n",
       "       0.34518338, 0.3447928 , 0.34437321, 0.34377777, 0.34317887,\n",
       "       0.34251011, 0.34210559, 0.34125664, 0.34066083, 0.34011862,\n",
       "       0.33972305, 0.33917437, 0.33878048, 0.3382711 , 0.33785002])"
      ]
     },
     "execution_count": 31,
     "metadata": {},
     "output_type": "execute_result"
    }
   ],
   "source": [
    "clf.train_score_"
   ]
  },
  {
   "cell_type": "code",
   "execution_count": 40,
   "metadata": {},
   "outputs": [
    {
     "name": "stdout",
     "output_type": "stream",
     "text": [
      "0 1\n",
      "1 2\n",
      "2 3\n",
      "3 4\n",
      "(1, 4)\n",
      "(2, 5)\n",
      "(3, 6)\n",
      "(4, 7)\n"
     ]
    }
   ],
   "source": [
    "l1 = [1,2,3,4]\n",
    "l2 = [4,5,6 , 7]\n",
    "for x , y in enumerate(l1):\n",
    "    print(x , y)\n",
    "for i in zip(l1,l2):\n",
    "           print(i)"
   ]
  },
  {
   "cell_type": "code",
   "execution_count": null,
   "metadata": {},
   "outputs": [],
   "source": []
  },
  {
   "cell_type": "code",
   "execution_count": null,
   "metadata": {},
   "outputs": [],
   "source": []
  },
  {
   "cell_type": "code",
   "execution_count": null,
   "metadata": {},
   "outputs": [],
   "source": []
  },
  {
   "cell_type": "code",
   "execution_count": 14,
   "metadata": {},
   "outputs": [],
   "source": [
    "from sklearn.ensemble import AdaBoostClassifier\n",
    "from sklearn.tree import DecisionTreeClassifier"
   ]
  },
  {
   "cell_type": "code",
   "execution_count": 15,
   "metadata": {},
   "outputs": [
    {
     "data": {
      "text/plain": [
       "0.8231851851851851"
      ]
     },
     "execution_count": 15,
     "metadata": {},
     "output_type": "execute_result"
    }
   ],
   "source": [
    "clf = AdaBoostClassifier(  DecisionTreeClassifier(max_depth=2) , n_estimators=250, random_state=0 , learning_rate = 0.1)\n",
    "clf.fit(X_train , y_train)\n",
    "clf.score(X_train , y_train)"
   ]
  },
  {
   "cell_type": "code",
   "execution_count": 16,
   "metadata": {},
   "outputs": [
    {
     "name": "stdout",
     "output_type": "stream",
     "text": [
      "0.818\n"
     ]
    }
   ],
   "source": [
    "y_pred = clf.predict(X_test)\n",
    "print(clf.score(X_test , y_test))"
   ]
  },
  {
   "cell_type": "code",
   "execution_count": 17,
   "metadata": {},
   "outputs": [
    {
     "name": "stdout",
     "output_type": "stream",
     "text": [
      "0.818\n"
     ]
    }
   ],
   "source": [
    "from sklearn.metrics import accuracy_score\n",
    "print(accuracy_score(y_test , y_pred))"
   ]
  },
  {
   "cell_type": "code",
   "execution_count": 18,
   "metadata": {},
   "outputs": [
    {
     "name": "stdout",
     "output_type": "stream",
     "text": [
      "[[2218  118]\n",
      " [ 428  236]] \n",
      "------------------\n"
     ]
    }
   ],
   "source": [
    "from sklearn import metrics\n",
    "print(metrics.confusion_matrix(y_test, y_pred),\"\\n------------------\")\n",
    "#print(metrics.confusion_matrix(y_train, train_predicted))"
   ]
  },
  {
   "cell_type": "code",
   "execution_count": 19,
   "metadata": {},
   "outputs": [
    {
     "name": "stdout",
     "output_type": "stream",
     "text": [
      "              precision    recall  f1-score   support\n",
      "\n",
      "           0       0.84      0.95      0.89      2336\n",
      "           1       0.67      0.36      0.46       664\n",
      "\n",
      "    accuracy                           0.82      3000\n",
      "   macro avg       0.75      0.65      0.68      3000\n",
      "weighted avg       0.80      0.82      0.80      3000\n",
      "\n"
     ]
    }
   ],
   "source": [
    "print(metrics.classification_report(y_test, y_pred  ))"
   ]
  },
  {
   "cell_type": "code",
   "execution_count": 20,
   "metadata": {},
   "outputs": [
    {
     "data": {
      "text/plain": [
       "DecisionTreeClassifier(max_depth=2)"
      ]
     },
     "execution_count": 20,
     "metadata": {},
     "output_type": "execute_result"
    }
   ],
   "source": [
    "clf.base_estimator_"
   ]
  },
  {
   "cell_type": "code",
   "execution_count": 21,
   "metadata": {},
   "outputs": [
    {
     "name": "stdout",
     "output_type": "stream",
     "text": [
      "23\n"
     ]
    },
    {
     "data": {
      "text/plain": [
       "array([0.10151564, 0.01073535, 0.02201084, 0.01527723, 0.01531236,\n",
       "       0.08090321, 0.01128699, 0.01663833, 0.00921373, 0.00947929,\n",
       "       0.02096106, 0.09020132, 0.06528646, 0.06586627, 0.07776305,\n",
       "       0.02632692, 0.03664764, 0.05255861, 0.05614905, 0.07419067,\n",
       "       0.04201184, 0.03981524, 0.0598489 ])"
      ]
     },
     "execution_count": 21,
     "metadata": {},
     "output_type": "execute_result"
    }
   ],
   "source": [
    "print(X_train.shape[1])\n",
    "clf.feature_importances_"
   ]
  },
  {
   "cell_type": "code",
   "execution_count": 23,
   "metadata": {},
   "outputs": [
    {
     "data": {
      "text/plain": [
       "{'algorithm': 'SAMME.R',\n",
       " 'base_estimator__ccp_alpha': 0.0,\n",
       " 'base_estimator__class_weight': None,\n",
       " 'base_estimator__criterion': 'gini',\n",
       " 'base_estimator__max_depth': 2,\n",
       " 'base_estimator__max_features': None,\n",
       " 'base_estimator__max_leaf_nodes': None,\n",
       " 'base_estimator__min_impurity_decrease': 0.0,\n",
       " 'base_estimator__min_impurity_split': None,\n",
       " 'base_estimator__min_samples_leaf': 1,\n",
       " 'base_estimator__min_samples_split': 2,\n",
       " 'base_estimator__min_weight_fraction_leaf': 0.0,\n",
       " 'base_estimator__random_state': None,\n",
       " 'base_estimator__splitter': 'best',\n",
       " 'base_estimator': DecisionTreeClassifier(max_depth=2),\n",
       " 'learning_rate': 0.1,\n",
       " 'n_estimators': 250,\n",
       " 'random_state': 0}"
      ]
     },
     "execution_count": 23,
     "metadata": {},
     "output_type": "execute_result"
    }
   ],
   "source": [
    "clf.get_params()"
   ]
  },
  {
   "cell_type": "code",
   "execution_count": 24,
   "metadata": {},
   "outputs": [
    {
     "ename": "AttributeError",
     "evalue": "'AdaBoostClassifier' object has no attribute 'train_score_'",
     "output_type": "error",
     "traceback": [
      "\u001b[1;31m---------------------------------------------------------------------------\u001b[0m",
      "\u001b[1;31mAttributeError\u001b[0m                            Traceback (most recent call last)",
      "\u001b[1;32m<ipython-input-24-c4bf4f8a15c7>\u001b[0m in \u001b[0;36m<module>\u001b[1;34m\u001b[0m\n\u001b[1;32m----> 1\u001b[1;33m \u001b[0mclf\u001b[0m\u001b[1;33m.\u001b[0m\u001b[0mtrain_score_\u001b[0m\u001b[1;33m\u001b[0m\u001b[1;33m\u001b[0m\u001b[0m\n\u001b[0m",
      "\u001b[1;31mAttributeError\u001b[0m: 'AdaBoostClassifier' object has no attribute 'train_score_'"
     ]
    }
   ],
   "source": []
  },
  {
   "cell_type": "code",
   "execution_count": null,
   "metadata": {},
   "outputs": [],
   "source": []
  }
 ],
 "metadata": {
  "kernelspec": {
   "display_name": "Python 3",
   "language": "python",
   "name": "python3"
  },
  "language_info": {
   "codemirror_mode": {
    "name": "ipython",
    "version": 3
   },
   "file_extension": ".py",
   "mimetype": "text/x-python",
   "name": "python",
   "nbconvert_exporter": "python",
   "pygments_lexer": "ipython3",
   "version": "3.8.5"
  }
 },
 "nbformat": 4,
 "nbformat_minor": 4
}
